{
 "cells": [
  {
   "cell_type": "code",
   "execution_count": 1,
   "id": "22a4c6ce",
   "metadata": {},
   "outputs": [],
   "source": [
    "import matplotlib.pyplot as plt\n",
    "import numpy as np"
   ]
  },
  {
   "cell_type": "code",
   "execution_count": 34,
   "id": "2ed4392a",
   "metadata": {},
   "outputs": [],
   "source": [
    "#Define domain on which we work\n",
    "\n",
    "x = np.linspace(-5,5,100)"
   ]
  },
  {
   "cell_type": "code",
   "execution_count": 56,
   "id": "a22bc7d6",
   "metadata": {},
   "outputs": [],
   "source": [
    "#Define two convex functions \n",
    "\n",
    "f = np.piecewise(x, [x <= 0, x>0, x>=2], [lambda x:3*x, lambda x: 2*x, lambda x: 6-x])\n",
    "g = np.piecewise(x, [x <= 0, x>0, x>=2.5], [lambda x:2*x, lambda x: x, lambda x: 5-x])"
   ]
  },
  {
   "cell_type": "code",
   "execution_count": 58,
   "id": "69bd272d",
   "metadata": {
    "scrolled": true
   },
   "outputs": [
    {
     "data": {
      "text/plain": [
       "[<matplotlib.lines.Line2D at 0x11e43dfd0>]"
      ]
     },
     "execution_count": 58,
     "metadata": {},
     "output_type": "execute_result"
    },
    {
     "data": {
      "image/png": "[encoded data removed]",
      "text/plain": [
       "<Figure size 432x288 with 1 Axes>"
      ]
     },
     "metadata": {
      "needs_background": "light"
     },
     "output_type": "display_data"
    }
   ],
   "source": [
    "plt.plot(x,f, color=\"red\")\n",
    "plt.plot(x,g, color=\"blue\")"
   ]
  },
  {
   "cell_type": "code",
   "execution_count": 74,
   "id": "5a44c411",
   "metadata": {},
   "outputs": [],
   "source": [
    "#Orders the functions by \n",
    "\n",
    "def func_order(array1, array2):\n",
    "    if max(f) > max(g):\n",
    "        max_func = f\n",
    "        min_func = g\n",
    "    else:\n",
    "        max_func = g\n",
    "        min_func = f\n",
    "    return max_func, min_func"
   ]
  },
  {
   "cell_type": "code",
   "execution_count": 76,
   "id": "c60f4a82",
   "metadata": {},
   "outputs": [
    {
     "name": "stdout",
     "output_type": "stream",
     "text": [
      "[-10.          -9.7979798   -9.5959596   -9.39393939  -9.19191919\n",
      "  -8.98989899  -8.78787879  -8.58585859  -8.38383838  -8.18181818\n",
      "  -7.97979798  -7.77777778  -7.57575758  -7.37373737  -7.17171717\n",
      "  -6.96969697  -6.76767677  -6.56565657  -6.36363636  -6.16161616\n",
      "  -5.95959596  -5.75757576  -5.55555556  -5.35353535  -5.15151515\n",
      "  -4.94949495  -4.74747475  -4.54545455  -4.34343434  -4.14141414\n",
      "  -3.93939394  -3.73737374  -3.53535354  -3.33333333  -3.13131313\n",
      "  -2.92929293  -2.72727273  -2.52525253  -2.32323232  -2.12121212\n",
      "  -1.91919192  -1.71717172  -1.51515152  -1.31313131  -1.11111111\n",
      "  -0.90909091  -0.70707071  -0.50505051  -0.3030303   -0.1010101\n",
      "   0.05050505   0.15151515   0.25252525   0.35353535   0.45454545\n",
      "   0.55555556   0.65656566   0.75757576   0.85858586   0.95959596\n",
      "   1.06060606   1.16161616   1.26262626   1.36363636   1.46464646\n",
      "   1.56565657   1.66666667   1.76767677   1.86868687   1.96969697\n",
      "   2.07070707   2.17171717   2.27272727   2.37373737   2.47474747\n",
      "   2.42424242   2.32323232   2.22222222   2.12121212   2.02020202\n",
      "   1.91919192   1.81818182   1.71717172   1.61616162   1.51515152\n",
      "   1.41414141   1.31313131   1.21212121   1.11111111   1.01010101\n",
      "   0.90909091   0.80808081   0.70707071   0.60606061   0.50505051\n",
      "   0.4040404    0.3030303    0.2020202    0.1010101    0.        ]\n"
     ]
    }
   ],
   "source": []
  },
  {
   "cell_type": "code",
   "execution_count": 69,
   "id": "296492d9",
   "metadata": {},
   "outputs": [
    {
     "ename": "SyntaxError",
     "evalue": "invalid syntax (<ipython-input-69-efb1d8d21fd3>, line 4)",
     "output_type": "error",
     "traceback": [
      "\u001b[0;36m  File \u001b[0;32m\"<ipython-input-69-efb1d8d21fd3>\"\u001b[0;36m, line \u001b[0;32m4\u001b[0m\n\u001b[0;31m    if\u001b[0m\n\u001b[0m       ^\u001b[0m\n\u001b[0;31mSyntaxError\u001b[0m\u001b[0;31m:\u001b[0m invalid syntax\n"
     ]
    }
   ],
   "source": [
    "cross_points()\n",
    "def find_cross(array1, array2):\n",
    "    for i in x:\n",
    "        if \n",
    "    "
   ]
  }
 ],
 "metadata": {
  "kernelspec": {
   "display_name": "Python 3",
   "language": "python",
   "name": "python3"
  },
  "language_info": {
   "codemirror_mode": {
    "name": "ipython",
    "version": 3
   },
   "file_extension": ".py",
   "mimetype": "text/x-python",
   "name": "python",
   "nbconvert_exporter": "python",
   "pygments_lexer": "ipython3",
   "version": "3.9.4"
  }
 },
 "nbformat": 4,
 "nbformat_minor": 5
}
